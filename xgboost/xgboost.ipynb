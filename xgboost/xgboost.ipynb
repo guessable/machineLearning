{
 "cells": [
  {
   "cell_type": "markdown",
   "metadata": {},
   "source": [
    "\n",
    "# xgBoost\n",
    "模型\n",
    "$$\n",
    "\\hat{y}=\\sum_{m=1}^M f_m(x)\n",
    "$$\n",
    "损失函数记为\n",
    "$$\n",
    "\\mathcal{L}(y,\\hat{y})=\\sum_{i=1}^Nl(y_i,\\hat{y}_i)+\\sum_{m=1}^M\\Omega(f_m)\n",
    "$$\n",
    "（要求二阶可导）。\n",
    "$$\n",
    "\\Omega(f)=\\gamma T+\\frac{1}{2}\\lambda||w||^2\n",
    "$$\n",
    "为正则化项，T为叶节点树，w为叶节点权重。\n",
    "\n",
    "## 叶节点最优权重\n",
    "第t次迭代\n",
    "$\\hat{y}_i^{(t)}=\\hat{y}_i^{(t-1)}+f_t(x_i),i=1,2,\\cdots,N$.\n",
    "优化目标为\n",
    "$$\n",
    "argmin_{f_t}\\sum_{i=1}^N[l(y_i,\\hat{y}_i^{(t-1)}+f_t(x_i))]+\\Omega(f_t)\\\\\n",
    "$$\n",
    "$l$在$\\hat{y}_i^{(t-1)}$处Taylor展开：\n",
    "$$\n",
    "l(y_i,\\hat{y}_i^{(t-1)}+f_t(x_i))=l(y_i,\\hat{y}_i^{(t-1)})+g_if_t(x_i) + \\frac{1}{2}h_i{f_t(x_i)}^2\n",
    "$$\n",
    "其中\n",
    "$$\n",
    "g_i = \\frac{\\partial l(y_i,\\hat{y}_i)}{\\partial \\hat{y}_i}|_{\\hat{y}_i=\\hat{y}_i^{(t-1)}}\n",
    "$$\n",
    "$$\n",
    "h_i = \\frac{\\partial^2 l(y_i,\\hat{y}_i)}{\\partial \\hat{y}_i^2}|_{\\hat{y}_i=\\hat{y}_i^{(t-1)}}\n",
    "$$\n",
    "故优化目标化为\n",
    "$$\n",
    "argmin_{f_t}\\sum_{i=1}^N[g_if_t(x_i)+\\frac{1}{2}h_if_t(x_i)^2]+\\gamma T + \\frac{1}{2}\\lambda||w||^2\\\\\n",
    "=argmin_{f_t}\\sum_{j=1}^T[(\\sum_{i \\in I_j}g_i)w_j+\\frac{1}{2}(\\sum_{i\\in I_j}h_i+\\lambda)w_j^2]\n",
    "$$\n",
    "对$w_j$求导并置零，有\n",
    "$$\n",
    "w^*_j=-\\frac{\\sum_{i\\in I_j}g_i}{(\\sum_{i\\in I_j}h_i+\\lambda)}\n",
    "$$\n",
    "对应的最优损失函数为\n",
    "$$\n",
    "\\mathcal{L}^{(t)}=-\\frac{1}{2}\\sum_{j=1}^T\\frac{(\\sum_{i\\in I_j}g_i)^2}{\\sum_{i\\in I_j}h_i+\\lambda} + \\gamma T\n",
    "$$\n",
    "\n",
    "## 树的生成\n",
    "遍历所有特征的所有特征划分点，根据划分后的增益来决定是否划分。\n",
    "\n",
    "设划分后左右节点集合为$I_L,I_R$.\n",
    "\n",
    "$$\n",
    "Gain = \\mathcal{L}_I - (\\mathcal{L}_{I_L}+\\mathcal{L}_{I_R})\\\\\n",
    "=\\frac{1}{2}[\\frac{(\\sum_{i\\in I_L}g_i)^2}{\\sum_{i\\in I_L}h_i+\\lambda}+\\frac{(\\sum_{i\\in I_R}g_i)^2}{\\sum_{i\\in I_R}h_i+\\lambda}-\\frac{(\\sum_{i\\in I}g_i)^2}{\\sum_{i\\in I}h_i+\\lambda}] - \\gamma T\n",
    "$$\n",
    "为了限制生长过深，可以给定一个阀值，但Gain大于阀值时才分裂。\n",
    "同时还可以设置最大深度，样本权重小于阀值时停止生长等来防止过拟合。"
   ]
  },
  {
   "cell_type": "code",
   "execution_count": null,
   "metadata": {},
   "outputs": [],
   "source": []
  }
 ],
 "metadata": {
  "kernelspec": {
   "display_name": "Python 3",
   "language": "python",
   "name": "python3"
  },
  "language_info": {
   "codemirror_mode": {
    "name": "ipython",
    "version": 3
   },
   "file_extension": ".py",
   "mimetype": "text/x-python",
   "name": "python",
   "nbconvert_exporter": "python",
   "pygments_lexer": "ipython3",
   "version": "3.7.3"
  }
 },
 "nbformat": 4,
 "nbformat_minor": 4
}
